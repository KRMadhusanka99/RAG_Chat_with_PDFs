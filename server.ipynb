{
 "cells": [
  {
   "cell_type": "code",
   "execution_count": 2,
   "metadata": {},
   "outputs": [
    {
     "name": "stdout",
     "output_type": "stream",
     "text": [
      "Collecting langChainNote: you may need to restart the kernel to use updated packages.\n",
      "\n",
      "  Obtaining dependency information for langChain from https://files.pythonhosted.org/packages/49/09/72630413a7ded27684e33392a0ff52ff1c8ea6749fee641319e75f82072b/langchain-0.3.7-py3-none-any.whl.metadata\n",
      "  Using cached langchain-0.3.7-py3-none-any.whl.metadata (7.1 kB)\n",
      "Collecting OpenAI\n",
      "  Obtaining dependency information for OpenAI from https://files.pythonhosted.org/packages/77/85/e7adeee84edd24c6cc119b2ccaaacd9579c6a2c7f72d05e936ea6b33594e/openai-1.54.3-py3-none-any.whl.metadata\n",
      "  Using cached openai-1.54.3-py3-none-any.whl.metadata (24 kB)\n",
      "Collecting faiss-cpu\n",
      "  Obtaining dependency information for faiss-cpu from https://files.pythonhosted.org/packages/51/d6/4228ddef6324abb7b6a62cf0dd72938147234770b1f04adcb23fa1a424bb/faiss_cpu-1.9.0-cp312-cp312-win_amd64.whl.metadata\n",
      "  Using cached faiss_cpu-1.9.0-cp312-cp312-win_amd64.whl.metadata (4.5 kB)\n",
      "Collecting tiktoken\n",
      "  Obtaining dependency information for tiktoken from https://files.pythonhosted.org/packages/45/e2/39d4aa02a52bba73b2cd21ba4533c84425ff8786cc63c511d68c8897376e/tiktoken-0.8.0-cp312-cp312-win_amd64.whl.metadata\n",
      "  Using cached tiktoken-0.8.0-cp312-cp312-win_amd64.whl.metadata (6.8 kB)\n",
      "Collecting PyYAML>=5.3 (from langChain)\n",
      "  Obtaining dependency information for PyYAML>=5.3 from https://files.pythonhosted.org/packages/0c/e8/4f648c598b17c3d06e8753d7d13d57542b30d56e6c2dedf9c331ae56312e/PyYAML-6.0.2-cp312-cp312-win_amd64.whl.metadata\n",
      "  Using cached PyYAML-6.0.2-cp312-cp312-win_amd64.whl.metadata (2.1 kB)\n",
      "Collecting SQLAlchemy<3,>=1.4 (from langChain)\n",
      "  Obtaining dependency information for SQLAlchemy<3,>=1.4 from https://files.pythonhosted.org/packages/b7/ed/f6cd9395e41bfe47dd253d74d2dfc3cab34980d4e20c8878cb1117306085/SQLAlchemy-2.0.36-cp312-cp312-win_amd64.whl.metadata\n",
      "  Using cached SQLAlchemy-2.0.36-cp312-cp312-win_amd64.whl.metadata (9.9 kB)\n",
      "Collecting aiohttp<4.0.0,>=3.8.3 (from langChain)\n",
      "  Obtaining dependency information for aiohttp<4.0.0,>=3.8.3 from https://files.pythonhosted.org/packages/70/9e/5add7e240f77ef67c275c82cc1d08afbca57b77593118c1f6e920ae8ad3f/aiohttp-3.10.10-cp312-cp312-win_amd64.whl.metadata\n",
      "  Using cached aiohttp-3.10.10-cp312-cp312-win_amd64.whl.metadata (7.8 kB)\n",
      "Collecting langchain-core<0.4.0,>=0.3.15 (from langChain)\n",
      "  Obtaining dependency information for langchain-core<0.4.0,>=0.3.15 from https://files.pythonhosted.org/packages/cf/0e/9b0c2214a371e99d26586c7a61f8c8af5b1150d46c8fa10d9b58e3c5bfa2/langchain_core-0.3.15-py3-none-any.whl.metadata\n",
      "  Using cached langchain_core-0.3.15-py3-none-any.whl.metadata (6.3 kB)\n",
      "Collecting langchain-text-splitters<0.4.0,>=0.3.0 (from langChain)\n",
      "  Obtaining dependency information for langchain-text-splitters<0.4.0,>=0.3.0 from https://files.pythonhosted.org/packages/ee/c6/5ba25c8bad647e92a92b3066177ab10d78efbd16c0b9919948cdcd18b027/langchain_text_splitters-0.3.2-py3-none-any.whl.metadata\n",
      "  Using cached langchain_text_splitters-0.3.2-py3-none-any.whl.metadata (2.3 kB)\n",
      "Collecting langsmith<0.2.0,>=0.1.17 (from langChain)\n",
      "  Obtaining dependency information for langsmith<0.2.0,>=0.1.17 from https://files.pythonhosted.org/packages/69/b0/4d8723f1615748cd7996c5ec6f207daa731bc7c73a39ce250409146a9553/langsmith-0.1.142-py3-none-any.whl.metadata\n",
      "  Using cached langsmith-0.1.142-py3-none-any.whl.metadata (13 kB)\n",
      "Collecting numpy<2.0.0,>=1.26.0 (from langChain)\n",
      "  Obtaining dependency information for numpy<2.0.0,>=1.26.0 from https://files.pythonhosted.org/packages/16/2e/86f24451c2d530c88daf997cb8d6ac622c1d40d19f5a031ed68a4b73a374/numpy-1.26.4-cp312-cp312-win_amd64.whl.metadata\n",
      "  Using cached numpy-1.26.4-cp312-cp312-win_amd64.whl.metadata (61 kB)\n",
      "Collecting pydantic<3.0.0,>=2.7.4 (from langChain)\n",
      "  Obtaining dependency information for pydantic<3.0.0,>=2.7.4 from https://files.pythonhosted.org/packages/df/e4/ba44652d562cbf0bf320e0f3810206149c8a4e99cdbf66da82e97ab53a15/pydantic-2.9.2-py3-none-any.whl.metadata\n",
      "  Using cached pydantic-2.9.2-py3-none-any.whl.metadata (149 kB)\n",
      "Collecting requests<3,>=2 (from langChain)\n",
      "  Obtaining dependency information for requests<3,>=2 from https://files.pythonhosted.org/packages/f9/9b/335f9764261e915ed497fcdeb11df5dfd6f7bf257d4a6a2a686d80da4d54/requests-2.32.3-py3-none-any.whl.metadata\n",
      "  Using cached requests-2.32.3-py3-none-any.whl.metadata (4.6 kB)\n",
      "Collecting tenacity!=8.4.0,<10,>=8.1.0 (from langChain)\n",
      "  Obtaining dependency information for tenacity!=8.4.0,<10,>=8.1.0 from https://files.pythonhosted.org/packages/b6/cb/b86984bed139586d01532a587464b5805f12e397594f19f931c4c2fbfa61/tenacity-9.0.0-py3-none-any.whl.metadata\n",
      "  Using cached tenacity-9.0.0-py3-none-any.whl.metadata (1.2 kB)\n",
      "Collecting anyio<5,>=3.5.0 (from OpenAI)\n",
      "  Obtaining dependency information for anyio<5,>=3.5.0 from https://files.pythonhosted.org/packages/e4/f5/f2b75d2fc6f1a260f340f0e7c6a060f4dd2961cc16884ed851b0d18da06a/anyio-4.6.2.post1-py3-none-any.whl.metadata\n",
      "  Using cached anyio-4.6.2.post1-py3-none-any.whl.metadata (4.7 kB)\n",
      "Collecting distro<2,>=1.7.0 (from OpenAI)\n",
      "  Obtaining dependency information for distro<2,>=1.7.0 from https://files.pythonhosted.org/packages/12/b3/231ffd4ab1fc9d679809f356cebee130ac7daa00d6d6f3206dd4fd137e9e/distro-1.9.0-py3-none-any.whl.metadata\n",
      "  Using cached distro-1.9.0-py3-none-any.whl.metadata (6.8 kB)\n",
      "Collecting httpx<1,>=0.23.0 (from OpenAI)\n",
      "  Obtaining dependency information for httpx<1,>=0.23.0 from https://files.pythonhosted.org/packages/56/95/9377bcb415797e44274b51d46e3249eba641711cf3348050f76ee7b15ffc/httpx-0.27.2-py3-none-any.whl.metadata\n",
      "  Using cached httpx-0.27.2-py3-none-any.whl.metadata (7.1 kB)\n",
      "Collecting jiter<1,>=0.4.0 (from OpenAI)\n",
      "  Obtaining dependency information for jiter<1,>=0.4.0 from https://files.pythonhosted.org/packages/d0/8e/80b2afd0391a3530966d8fc2f9c104955ba41093b3c319ae40b25e68e323/jiter-0.7.0-cp312-none-win_amd64.whl.metadata\n",
      "  Using cached jiter-0.7.0-cp312-none-win_amd64.whl.metadata (5.3 kB)\n",
      "Collecting sniffio (from OpenAI)\n",
      "  Obtaining dependency information for sniffio from https://files.pythonhosted.org/packages/e9/44/75a9c9421471a6c4805dbf2356f7c181a29c1879239abab1ea2cc8f38b40/sniffio-1.3.1-py3-none-any.whl.metadata\n",
      "  Using cached sniffio-1.3.1-py3-none-any.whl.metadata (3.9 kB)\n",
      "Collecting tqdm>4 (from OpenAI)\n",
      "  Obtaining dependency information for tqdm>4 from https://files.pythonhosted.org/packages/2b/78/57043611a16c655c8350b4c01b8d6abfb38cc2acb475238b62c2146186d7/tqdm-4.67.0-py3-none-any.whl.metadata\n",
      "  Using cached tqdm-4.67.0-py3-none-any.whl.metadata (57 kB)\n",
      "Collecting typing-extensions<5,>=4.11 (from OpenAI)\n",
      "  Obtaining dependency information for typing-extensions<5,>=4.11 from https://files.pythonhosted.org/packages/26/9f/ad63fc0248c5379346306f8668cda6e2e2e9c95e01216d2b8ffd9ff037d0/typing_extensions-4.12.2-py3-none-any.whl.metadata\n",
      "  Using cached typing_extensions-4.12.2-py3-none-any.whl.metadata (3.0 kB)\n",
      "Requirement already satisfied: packaging in f:\\kelaniya se\\lectures\\level 4\\semester 2\\seng 43216 (research)\\rag youtube\\rag-be\\venv\\lib\\site-packages (from faiss-cpu) (24.2)\n",
      "Collecting regex>=2022.1.18 (from tiktoken)\n",
      "  Obtaining dependency information for regex>=2022.1.18 from https://files.pythonhosted.org/packages/38/ec/ad2d7de49a600cdb8dd78434a1aeffe28b9d6fc42eb36afab4a27ad23384/regex-2024.11.6-cp312-cp312-win_amd64.whl.metadata\n",
      "  Using cached regex-2024.11.6-cp312-cp312-win_amd64.whl.metadata (41 kB)\n",
      "Collecting aiohappyeyeballs>=2.3.0 (from aiohttp<4.0.0,>=3.8.3->langChain)\n",
      "  Obtaining dependency information for aiohappyeyeballs>=2.3.0 from https://files.pythonhosted.org/packages/f7/d8/120cd0fe3e8530df0539e71ba9683eade12cae103dd7543e50d15f737917/aiohappyeyeballs-2.4.3-py3-none-any.whl.metadata\n",
      "  Using cached aiohappyeyeballs-2.4.3-py3-none-any.whl.metadata (6.1 kB)\n",
      "Collecting aiosignal>=1.1.2 (from aiohttp<4.0.0,>=3.8.3->langChain)\n",
      "  Obtaining dependency information for aiosignal>=1.1.2 from https://files.pythonhosted.org/packages/76/ac/a7305707cb852b7e16ff80eaf5692309bde30e2b1100a1fcacdc8f731d97/aiosignal-1.3.1-py3-none-any.whl.metadata\n",
      "  Using cached aiosignal-1.3.1-py3-none-any.whl.metadata (4.0 kB)\n",
      "Collecting attrs>=17.3.0 (from aiohttp<4.0.0,>=3.8.3->langChain)\n",
      "  Obtaining dependency information for attrs>=17.3.0 from https://files.pythonhosted.org/packages/6a/21/5b6702a7f963e95456c0de2d495f67bf5fd62840ac655dc451586d23d39a/attrs-24.2.0-py3-none-any.whl.metadata\n",
      "  Using cached attrs-24.2.0-py3-none-any.whl.metadata (11 kB)\n",
      "Collecting frozenlist>=1.1.1 (from aiohttp<4.0.0,>=3.8.3->langChain)\n",
      "  Obtaining dependency information for frozenlist>=1.1.1 from https://files.pythonhosted.org/packages/b1/56/4e45136ffc6bdbfa68c29ca56ef53783ef4c2fd395f7cbf99a2624aa9aaa/frozenlist-1.5.0-cp312-cp312-win_amd64.whl.metadata\n",
      "  Using cached frozenlist-1.5.0-cp312-cp312-win_amd64.whl.metadata (14 kB)\n",
      "Collecting multidict<7.0,>=4.5 (from aiohttp<4.0.0,>=3.8.3->langChain)\n",
      "  Obtaining dependency information for multidict<7.0,>=4.5 from https://files.pythonhosted.org/packages/a3/bf/f332a13486b1ed0496d624bcc7e8357bb8053823e8cd4b9a18edc1d97e73/multidict-6.1.0-cp312-cp312-win_amd64.whl.metadata\n",
      "  Using cached multidict-6.1.0-cp312-cp312-win_amd64.whl.metadata (5.1 kB)\n",
      "Collecting yarl<2.0,>=1.12.0 (from aiohttp<4.0.0,>=3.8.3->langChain)\n",
      "  Obtaining dependency information for yarl<2.0,>=1.12.0 from https://files.pythonhosted.org/packages/bc/82/fafb2c1268d63d54ec08b3a254fbe51f4ef098211501df646026717abee3/yarl-1.17.1-cp312-cp312-win_amd64.whl.metadata\n",
      "  Using cached yarl-1.17.1-cp312-cp312-win_amd64.whl.metadata (66 kB)\n",
      "Collecting idna>=2.8 (from anyio<5,>=3.5.0->OpenAI)\n",
      "  Obtaining dependency information for idna>=2.8 from https://files.pythonhosted.org/packages/76/c6/c88e154df9c4e1a2a66ccf0005a88dfb2650c1dffb6f5ce603dfbd452ce3/idna-3.10-py3-none-any.whl.metadata\n",
      "  Using cached idna-3.10-py3-none-any.whl.metadata (10 kB)\n",
      "Collecting certifi (from httpx<1,>=0.23.0->OpenAI)\n",
      "  Obtaining dependency information for certifi from https://files.pythonhosted.org/packages/12/90/3c9ff0512038035f59d279fddeb79f5f1eccd8859f06d6163c58798b9487/certifi-2024.8.30-py3-none-any.whl.metadata\n",
      "  Using cached certifi-2024.8.30-py3-none-any.whl.metadata (2.2 kB)\n",
      "Collecting httpcore==1.* (from httpx<1,>=0.23.0->OpenAI)\n",
      "  Obtaining dependency information for httpcore==1.* from https://files.pythonhosted.org/packages/06/89/b161908e2f51be56568184aeb4a880fd287178d176fd1c860d2217f41106/httpcore-1.0.6-py3-none-any.whl.metadata\n",
      "  Using cached httpcore-1.0.6-py3-none-any.whl.metadata (21 kB)\n",
      "Collecting h11<0.15,>=0.13 (from httpcore==1.*->httpx<1,>=0.23.0->OpenAI)\n",
      "  Obtaining dependency information for h11<0.15,>=0.13 from https://files.pythonhosted.org/packages/95/04/ff642e65ad6b90db43e668d70ffb6736436c7ce41fcc549f4e9472234127/h11-0.14.0-py3-none-any.whl.metadata\n",
      "  Using cached h11-0.14.0-py3-none-any.whl.metadata (8.2 kB)\n",
      "Collecting jsonpatch<2.0,>=1.33 (from langchain-core<0.4.0,>=0.3.15->langChain)\n",
      "  Obtaining dependency information for jsonpatch<2.0,>=1.33 from https://files.pythonhosted.org/packages/73/07/02e16ed01e04a374e644b575638ec7987ae846d25ad97bcc9945a3ee4b0e/jsonpatch-1.33-py2.py3-none-any.whl.metadata\n",
      "  Using cached jsonpatch-1.33-py2.py3-none-any.whl.metadata (3.0 kB)\n",
      "Collecting orjson<4.0.0,>=3.9.14 (from langsmith<0.2.0,>=0.1.17->langChain)\n",
      "  Obtaining dependency information for orjson<4.0.0,>=3.9.14 from https://files.pythonhosted.org/packages/03/60/748e0e205060dec74328dfd835e47902eb5522ae011766da76bfff64e2f4/orjson-3.10.11-cp312-none-win_amd64.whl.metadata\n",
      "  Using cached orjson-3.10.11-cp312-none-win_amd64.whl.metadata (52 kB)\n",
      "Collecting requests-toolbelt<2.0.0,>=1.0.0 (from langsmith<0.2.0,>=0.1.17->langChain)\n",
      "  Obtaining dependency information for requests-toolbelt<2.0.0,>=1.0.0 from https://files.pythonhosted.org/packages/3f/51/d4db610ef29373b879047326cbf6fa98b6c1969d6f6dc423279de2b1be2c/requests_toolbelt-1.0.0-py2.py3-none-any.whl.metadata\n",
      "  Using cached requests_toolbelt-1.0.0-py2.py3-none-any.whl.metadata (14 kB)\n",
      "Collecting annotated-types>=0.6.0 (from pydantic<3.0.0,>=2.7.4->langChain)\n",
      "  Obtaining dependency information for annotated-types>=0.6.0 from https://files.pythonhosted.org/packages/78/b6/6307fbef88d9b5ee7421e68d78a9f162e0da4900bc5f5793f6d3d0e34fb8/annotated_types-0.7.0-py3-none-any.whl.metadata\n",
      "  Using cached annotated_types-0.7.0-py3-none-any.whl.metadata (15 kB)\n",
      "Collecting pydantic-core==2.23.4 (from pydantic<3.0.0,>=2.7.4->langChain)\n",
      "  Obtaining dependency information for pydantic-core==2.23.4 from https://files.pythonhosted.org/packages/88/8d/479293e4d39ab409747926eec4329de5b7129beaedc3786eca070605d07f/pydantic_core-2.23.4-cp312-none-win_amd64.whl.metadata\n",
      "  Using cached pydantic_core-2.23.4-cp312-none-win_amd64.whl.metadata (6.7 kB)\n",
      "Collecting charset-normalizer<4,>=2 (from requests<3,>=2->langChain)\n",
      "  Obtaining dependency information for charset-normalizer<4,>=2 from https://files.pythonhosted.org/packages/3e/67/7b72b69d25b89c0b3cea583ee372c43aa24df15f0e0f8d3982c57804984b/charset_normalizer-3.4.0-cp312-cp312-win_amd64.whl.metadata\n",
      "  Using cached charset_normalizer-3.4.0-cp312-cp312-win_amd64.whl.metadata (34 kB)\n",
      "Collecting urllib3<3,>=1.21.1 (from requests<3,>=2->langChain)\n",
      "  Obtaining dependency information for urllib3<3,>=1.21.1 from https://files.pythonhosted.org/packages/ce/d9/5f4c13cecde62396b0d3fe530a50ccea91e7dfc1ccf0e09c228841bb5ba8/urllib3-2.2.3-py3-none-any.whl.metadata\n",
      "  Using cached urllib3-2.2.3-py3-none-any.whl.metadata (6.5 kB)\n",
      "Collecting greenlet!=0.4.17 (from SQLAlchemy<3,>=1.4->langChain)\n",
      "  Obtaining dependency information for greenlet!=0.4.17 from https://files.pythonhosted.org/packages/43/21/a5d9df1d21514883333fc86584c07c2b49ba7c602e670b174bd73cfc9c7f/greenlet-3.1.1-cp312-cp312-win_amd64.whl.metadata\n",
      "  Using cached greenlet-3.1.1-cp312-cp312-win_amd64.whl.metadata (3.9 kB)\n",
      "Requirement already satisfied: colorama in f:\\kelaniya se\\lectures\\level 4\\semester 2\\seng 43216 (research)\\rag youtube\\rag-be\\venv\\lib\\site-packages (from tqdm>4->OpenAI) (0.4.6)\n",
      "Collecting jsonpointer>=1.9 (from jsonpatch<2.0,>=1.33->langchain-core<0.4.0,>=0.3.15->langChain)\n",
      "  Obtaining dependency information for jsonpointer>=1.9 from https://files.pythonhosted.org/packages/71/92/5e77f98553e9e75130c78900d000368476aed74276eb8ae8796f65f00918/jsonpointer-3.0.0-py2.py3-none-any.whl.metadata\n",
      "  Using cached jsonpointer-3.0.0-py2.py3-none-any.whl.metadata (2.3 kB)\n",
      "Collecting propcache>=0.2.0 (from yarl<2.0,>=1.12.0->aiohttp<4.0.0,>=3.8.3->langChain)\n",
      "  Obtaining dependency information for propcache>=0.2.0 from https://files.pythonhosted.org/packages/20/a2/bd0896fdc4f4c1db46d9bc361c8c79a9bf08ccc08ba054a98e38e7ba1557/propcache-0.2.0-cp312-cp312-win_amd64.whl.metadata\n",
      "  Using cached propcache-0.2.0-cp312-cp312-win_amd64.whl.metadata (7.9 kB)\n",
      "Using cached langchain-0.3.7-py3-none-any.whl (1.0 MB)\n",
      "Using cached openai-1.54.3-py3-none-any.whl (389 kB)\n",
      "Using cached faiss_cpu-1.9.0-cp312-cp312-win_amd64.whl (14.9 MB)\n",
      "Using cached tiktoken-0.8.0-cp312-cp312-win_amd64.whl (883 kB)\n",
      "Using cached aiohttp-3.10.10-cp312-cp312-win_amd64.whl (379 kB)\n",
      "Using cached anyio-4.6.2.post1-py3-none-any.whl (90 kB)\n",
      "Using cached distro-1.9.0-py3-none-any.whl (20 kB)\n",
      "Using cached httpx-0.27.2-py3-none-any.whl (76 kB)\n",
      "Using cached httpcore-1.0.6-py3-none-any.whl (78 kB)\n",
      "Using cached jiter-0.7.0-cp312-none-win_amd64.whl (199 kB)\n",
      "Using cached langchain_core-0.3.15-py3-none-any.whl (408 kB)\n",
      "Using cached langchain_text_splitters-0.3.2-py3-none-any.whl (25 kB)\n",
      "Using cached langsmith-0.1.142-py3-none-any.whl (306 kB)\n",
      "Using cached numpy-1.26.4-cp312-cp312-win_amd64.whl (15.5 MB)\n",
      "Using cached pydantic-2.9.2-py3-none-any.whl (434 kB)\n",
      "Using cached pydantic_core-2.23.4-cp312-none-win_amd64.whl (1.9 MB)\n",
      "Using cached PyYAML-6.0.2-cp312-cp312-win_amd64.whl (156 kB)\n",
      "Using cached regex-2024.11.6-cp312-cp312-win_amd64.whl (273 kB)\n",
      "Using cached requests-2.32.3-py3-none-any.whl (64 kB)\n",
      "Using cached sniffio-1.3.1-py3-none-any.whl (10 kB)\n",
      "Using cached SQLAlchemy-2.0.36-cp312-cp312-win_amd64.whl (2.1 MB)\n",
      "Using cached tenacity-9.0.0-py3-none-any.whl (28 kB)\n",
      "Using cached tqdm-4.67.0-py3-none-any.whl (78 kB)\n",
      "Using cached typing_extensions-4.12.2-py3-none-any.whl (37 kB)\n",
      "Using cached aiohappyeyeballs-2.4.3-py3-none-any.whl (14 kB)\n",
      "Using cached aiosignal-1.3.1-py3-none-any.whl (7.6 kB)\n",
      "Using cached annotated_types-0.7.0-py3-none-any.whl (13 kB)\n",
      "Using cached attrs-24.2.0-py3-none-any.whl (63 kB)\n",
      "Using cached certifi-2024.8.30-py3-none-any.whl (167 kB)\n",
      "Using cached charset_normalizer-3.4.0-cp312-cp312-win_amd64.whl (102 kB)\n",
      "Using cached frozenlist-1.5.0-cp312-cp312-win_amd64.whl (51 kB)\n",
      "Using cached greenlet-3.1.1-cp312-cp312-win_amd64.whl (299 kB)\n",
      "Using cached idna-3.10-py3-none-any.whl (70 kB)\n",
      "Using cached jsonpatch-1.33-py2.py3-none-any.whl (12 kB)\n",
      "Using cached multidict-6.1.0-cp312-cp312-win_amd64.whl (28 kB)\n",
      "Using cached orjson-3.10.11-cp312-none-win_amd64.whl (136 kB)\n",
      "Using cached requests_toolbelt-1.0.0-py2.py3-none-any.whl (54 kB)\n",
      "Using cached urllib3-2.2.3-py3-none-any.whl (126 kB)\n",
      "Using cached yarl-1.17.1-cp312-cp312-win_amd64.whl (89 kB)\n",
      "Using cached h11-0.14.0-py3-none-any.whl (58 kB)\n",
      "Using cached jsonpointer-3.0.0-py2.py3-none-any.whl (7.6 kB)\n",
      "Using cached propcache-0.2.0-cp312-cp312-win_amd64.whl (44 kB)\n",
      "Installing collected packages: urllib3, typing-extensions, tqdm, tenacity, sniffio, regex, PyYAML, propcache, orjson, numpy, multidict, jsonpointer, jiter, idna, h11, greenlet, frozenlist, distro, charset-normalizer, certifi, attrs, annotated-types, aiohappyeyeballs, yarl, SQLAlchemy, requests, pydantic-core, jsonpatch, httpcore, faiss-cpu, anyio, aiosignal, tiktoken, requests-toolbelt, pydantic, httpx, aiohttp, OpenAI, langsmith, langchain-core, langchain-text-splitters, langChain\n",
      "Successfully installed OpenAI-1.54.3 PyYAML-6.0.2 SQLAlchemy-2.0.36 aiohappyeyeballs-2.4.3 aiohttp-3.10.10 aiosignal-1.3.1 annotated-types-0.7.0 anyio-4.6.2.post1 attrs-24.2.0 certifi-2024.8.30 charset-normalizer-3.4.0 distro-1.9.0 faiss-cpu-1.9.0 frozenlist-1.5.0 greenlet-3.1.1 h11-0.14.0 httpcore-1.0.6 httpx-0.27.2 idna-3.10 jiter-0.7.0 jsonpatch-1.33 jsonpointer-3.0.0 langChain-0.3.7 langchain-core-0.3.15 langchain-text-splitters-0.3.2 langsmith-0.1.142 multidict-6.1.0 numpy-1.26.4 orjson-3.10.11 propcache-0.2.0 pydantic-2.9.2 pydantic-core-2.23.4 regex-2024.11.6 requests-2.32.3 requests-toolbelt-1.0.0 sniffio-1.3.1 tenacity-9.0.0 tiktoken-0.8.0 tqdm-4.67.0 typing-extensions-4.12.2 urllib3-2.2.3 yarl-1.17.1\n"
     ]
    },
    {
     "name": "stderr",
     "output_type": "stream",
     "text": [
      "\n",
      "[notice] A new release of pip is available: 23.2.1 -> 24.3.1\n",
      "[notice] To update, run: python.exe -m pip install --upgrade pip\n"
     ]
    }
   ],
   "source": [
    "pip install langChain OpenAI faiss-cpu tiktoken"
   ]
  },
  {
   "cell_type": "code",
   "execution_count": 1,
   "metadata": {},
   "outputs": [
    {
     "name": "stdout",
     "output_type": "stream",
     "text": [
      "Collecting python-dotenv\n",
      "  Obtaining dependency information for python-dotenv from https://files.pythonhosted.org/packages/6a/3e/b68c118422ec867fa7ab88444e1274aa40681c606d59ac27de5a5588f082/python_dotenv-1.0.1-py3-none-any.whl.metadata\n",
      "  Using cached python_dotenv-1.0.1-py3-none-any.whl.metadata (23 kB)\n",
      "Using cached python_dotenv-1.0.1-py3-none-any.whl (19 kB)\n",
      "Installing collected packages: python-dotenv\n",
      "Successfully installed python-dotenv-1.0.1\n",
      "Note: you may need to restart the kernel to use updated packages.\n"
     ]
    },
    {
     "name": "stderr",
     "output_type": "stream",
     "text": [
      "\n",
      "[notice] A new release of pip is available: 23.2.1 -> 24.3.1\n",
      "[notice] To update, run: python.exe -m pip install --upgrade pip\n"
     ]
    }
   ],
   "source": [
    "pip install python-dotenv"
   ]
  },
  {
   "cell_type": "code",
   "execution_count": 6,
   "metadata": {},
   "outputs": [
    {
     "name": "stdout",
     "output_type": "stream",
     "text": [
      "Collecting langchain-community\n",
      "  Obtaining dependency information for langchain-community from https://files.pythonhosted.org/packages/82/c7/b6d7cb286e93f85b4882088ce530cc7d55a5683c9390d7fc1c0dbde846e2/langchain_community-0.3.5-py3-none-any.whl.metadata\n",
      "  Downloading langchain_community-0.3.5-py3-none-any.whl.metadata (2.9 kB)\n",
      "Requirement already satisfied: PyYAML>=5.3 in f:\\kelaniya se\\lectures\\level 4\\semester 2\\seng 43216 (research)\\rag youtube\\rag-be\\venv\\lib\\site-packages (from langchain-community) (6.0.2)\n",
      "Collecting SQLAlchemy<2.0.36,>=1.4 (from langchain-community)\n",
      "  Obtaining dependency information for SQLAlchemy<2.0.36,>=1.4 from https://files.pythonhosted.org/packages/60/63/a3cef44a52979169d884f3583d0640e64b3c28122c096474a1d7cfcaf1f3/SQLAlchemy-2.0.35-cp312-cp312-win_amd64.whl.metadata\n",
      "  Downloading SQLAlchemy-2.0.35-cp312-cp312-win_amd64.whl.metadata (9.9 kB)\n",
      "Requirement already satisfied: aiohttp<4.0.0,>=3.8.3 in f:\\kelaniya se\\lectures\\level 4\\semester 2\\seng 43216 (research)\\rag youtube\\rag-be\\venv\\lib\\site-packages (from langchain-community) (3.10.10)\n",
      "Collecting dataclasses-json<0.7,>=0.5.7 (from langchain-community)\n",
      "  Obtaining dependency information for dataclasses-json<0.7,>=0.5.7 from https://files.pythonhosted.org/packages/c3/be/d0d44e092656fe7a06b55e6103cbce807cdbdee17884a5367c68c9860853/dataclasses_json-0.6.7-py3-none-any.whl.metadata\n",
      "  Using cached dataclasses_json-0.6.7-py3-none-any.whl.metadata (25 kB)\n",
      "Collecting httpx-sse<0.5.0,>=0.4.0 (from langchain-community)\n",
      "  Obtaining dependency information for httpx-sse<0.5.0,>=0.4.0 from https://files.pythonhosted.org/packages/e1/9b/a181f281f65d776426002f330c31849b86b31fc9d848db62e16f03ff739f/httpx_sse-0.4.0-py3-none-any.whl.metadata\n",
      "  Downloading httpx_sse-0.4.0-py3-none-any.whl.metadata (9.0 kB)\n",
      "Requirement already satisfied: langchain<0.4.0,>=0.3.6 in f:\\kelaniya se\\lectures\\level 4\\semester 2\\seng 43216 (research)\\rag youtube\\rag-be\\venv\\lib\\site-packages (from langchain-community) (0.3.7)\n",
      "Requirement already satisfied: langchain-core<0.4.0,>=0.3.15 in f:\\kelaniya se\\lectures\\level 4\\semester 2\\seng 43216 (research)\\rag youtube\\rag-be\\venv\\lib\\site-packages (from langchain-community) (0.3.15)\n",
      "Requirement already satisfied: langsmith<0.2.0,>=0.1.125 in f:\\kelaniya se\\lectures\\level 4\\semester 2\\seng 43216 (research)\\rag youtube\\rag-be\\venv\\lib\\site-packages (from langchain-community) (0.1.142)\n",
      "Requirement already satisfied: numpy<2.0.0,>=1.26.0 in f:\\kelaniya se\\lectures\\level 4\\semester 2\\seng 43216 (research)\\rag youtube\\rag-be\\venv\\lib\\site-packages (from langchain-community) (1.26.4)\n",
      "Collecting pydantic-settings<3.0.0,>=2.4.0 (from langchain-community)\n",
      "  Obtaining dependency information for pydantic-settings<3.0.0,>=2.4.0 from https://files.pythonhosted.org/packages/5e/f9/ff95fd7d760af42f647ea87f9b8a383d891cdb5e5dbd4613edaeb094252a/pydantic_settings-2.6.1-py3-none-any.whl.metadata\n",
      "  Downloading pydantic_settings-2.6.1-py3-none-any.whl.metadata (3.5 kB)\n",
      "Requirement already satisfied: requests<3,>=2 in f:\\kelaniya se\\lectures\\level 4\\semester 2\\seng 43216 (research)\\rag youtube\\rag-be\\venv\\lib\\site-packages (from langchain-community) (2.32.3)\n",
      "Requirement already satisfied: tenacity!=8.4.0,<10,>=8.1.0 in f:\\kelaniya se\\lectures\\level 4\\semester 2\\seng 43216 (research)\\rag youtube\\rag-be\\venv\\lib\\site-packages (from langchain-community) (9.0.0)\n",
      "Requirement already satisfied: aiohappyeyeballs>=2.3.0 in f:\\kelaniya se\\lectures\\level 4\\semester 2\\seng 43216 (research)\\rag youtube\\rag-be\\venv\\lib\\site-packages (from aiohttp<4.0.0,>=3.8.3->langchain-community) (2.4.3)\n",
      "Requirement already satisfied: aiosignal>=1.1.2 in f:\\kelaniya se\\lectures\\level 4\\semester 2\\seng 43216 (research)\\rag youtube\\rag-be\\venv\\lib\\site-packages (from aiohttp<4.0.0,>=3.8.3->langchain-community) (1.3.1)\n",
      "Requirement already satisfied: attrs>=17.3.0 in f:\\kelaniya se\\lectures\\level 4\\semester 2\\seng 43216 (research)\\rag youtube\\rag-be\\venv\\lib\\site-packages (from aiohttp<4.0.0,>=3.8.3->langchain-community) (24.2.0)\n",
      "Requirement already satisfied: frozenlist>=1.1.1 in f:\\kelaniya se\\lectures\\level 4\\semester 2\\seng 43216 (research)\\rag youtube\\rag-be\\venv\\lib\\site-packages (from aiohttp<4.0.0,>=3.8.3->langchain-community) (1.5.0)\n",
      "Requirement already satisfied: multidict<7.0,>=4.5 in f:\\kelaniya se\\lectures\\level 4\\semester 2\\seng 43216 (research)\\rag youtube\\rag-be\\venv\\lib\\site-packages (from aiohttp<4.0.0,>=3.8.3->langchain-community) (6.1.0)\n",
      "Requirement already satisfied: yarl<2.0,>=1.12.0 in f:\\kelaniya se\\lectures\\level 4\\semester 2\\seng 43216 (research)\\rag youtube\\rag-be\\venv\\lib\\site-packages (from aiohttp<4.0.0,>=3.8.3->langchain-community) (1.17.1)\n",
      "Collecting marshmallow<4.0.0,>=3.18.0 (from dataclasses-json<0.7,>=0.5.7->langchain-community)\n",
      "  Obtaining dependency information for marshmallow<4.0.0,>=3.18.0 from https://files.pythonhosted.org/packages/ac/a7/a78ff54e67ef92a3d12126b98eb98ab8abab3de4a8c46d240c87e514d6bb/marshmallow-3.23.1-py3-none-any.whl.metadata\n",
      "  Downloading marshmallow-3.23.1-py3-none-any.whl.metadata (7.5 kB)\n",
      "Collecting typing-inspect<1,>=0.4.0 (from dataclasses-json<0.7,>=0.5.7->langchain-community)\n",
      "  Obtaining dependency information for typing-inspect<1,>=0.4.0 from https://files.pythonhosted.org/packages/65/f3/107a22063bf27bdccf2024833d3445f4eea42b2e598abfbd46f6a63b6cb0/typing_inspect-0.9.0-py3-none-any.whl.metadata\n",
      "  Using cached typing_inspect-0.9.0-py3-none-any.whl.metadata (1.5 kB)\n",
      "Requirement already satisfied: langchain-text-splitters<0.4.0,>=0.3.0 in f:\\kelaniya se\\lectures\\level 4\\semester 2\\seng 43216 (research)\\rag youtube\\rag-be\\venv\\lib\\site-packages (from langchain<0.4.0,>=0.3.6->langchain-community) (0.3.2)\n",
      "Requirement already satisfied: pydantic<3.0.0,>=2.7.4 in f:\\kelaniya se\\lectures\\level 4\\semester 2\\seng 43216 (research)\\rag youtube\\rag-be\\venv\\lib\\site-packages (from langchain<0.4.0,>=0.3.6->langchain-community) (2.9.2)\n",
      "Requirement already satisfied: jsonpatch<2.0,>=1.33 in f:\\kelaniya se\\lectures\\level 4\\semester 2\\seng 43216 (research)\\rag youtube\\rag-be\\venv\\lib\\site-packages (from langchain-core<0.4.0,>=0.3.15->langchain-community) (1.33)\n",
      "Requirement already satisfied: packaging<25,>=23.2 in f:\\kelaniya se\\lectures\\level 4\\semester 2\\seng 43216 (research)\\rag youtube\\rag-be\\venv\\lib\\site-packages (from langchain-core<0.4.0,>=0.3.15->langchain-community) (24.2)\n",
      "Requirement already satisfied: typing-extensions>=4.7 in f:\\kelaniya se\\lectures\\level 4\\semester 2\\seng 43216 (research)\\rag youtube\\rag-be\\venv\\lib\\site-packages (from langchain-core<0.4.0,>=0.3.15->langchain-community) (4.12.2)\n",
      "Requirement already satisfied: httpx<1,>=0.23.0 in f:\\kelaniya se\\lectures\\level 4\\semester 2\\seng 43216 (research)\\rag youtube\\rag-be\\venv\\lib\\site-packages (from langsmith<0.2.0,>=0.1.125->langchain-community) (0.27.2)\n",
      "Requirement already satisfied: orjson<4.0.0,>=3.9.14 in f:\\kelaniya se\\lectures\\level 4\\semester 2\\seng 43216 (research)\\rag youtube\\rag-be\\venv\\lib\\site-packages (from langsmith<0.2.0,>=0.1.125->langchain-community) (3.10.11)\n",
      "Requirement already satisfied: requests-toolbelt<2.0.0,>=1.0.0 in f:\\kelaniya se\\lectures\\level 4\\semester 2\\seng 43216 (research)\\rag youtube\\rag-be\\venv\\lib\\site-packages (from langsmith<0.2.0,>=0.1.125->langchain-community) (1.0.0)\n",
      "Requirement already satisfied: python-dotenv>=0.21.0 in f:\\kelaniya se\\lectures\\level 4\\semester 2\\seng 43216 (research)\\rag youtube\\rag-be\\venv\\lib\\site-packages (from pydantic-settings<3.0.0,>=2.4.0->langchain-community) (1.0.1)\n",
      "Requirement already satisfied: charset-normalizer<4,>=2 in f:\\kelaniya se\\lectures\\level 4\\semester 2\\seng 43216 (research)\\rag youtube\\rag-be\\venv\\lib\\site-packages (from requests<3,>=2->langchain-community) (3.4.0)\n",
      "Requirement already satisfied: idna<4,>=2.5 in f:\\kelaniya se\\lectures\\level 4\\semester 2\\seng 43216 (research)\\rag youtube\\rag-be\\venv\\lib\\site-packages (from requests<3,>=2->langchain-community) (3.10)\n",
      "Requirement already satisfied: urllib3<3,>=1.21.1 in f:\\kelaniya se\\lectures\\level 4\\semester 2\\seng 43216 (research)\\rag youtube\\rag-be\\venv\\lib\\site-packages (from requests<3,>=2->langchain-community) (2.2.3)\n",
      "Requirement already satisfied: certifi>=2017.4.17 in f:\\kelaniya se\\lectures\\level 4\\semester 2\\seng 43216 (research)\\rag youtube\\rag-be\\venv\\lib\\site-packages (from requests<3,>=2->langchain-community) (2024.8.30)\n",
      "Requirement already satisfied: greenlet!=0.4.17 in f:\\kelaniya se\\lectures\\level 4\\semester 2\\seng 43216 (research)\\rag youtube\\rag-be\\venv\\lib\\site-packages (from SQLAlchemy<2.0.36,>=1.4->langchain-community) (3.1.1)\n",
      "Requirement already satisfied: anyio in f:\\kelaniya se\\lectures\\level 4\\semester 2\\seng 43216 (research)\\rag youtube\\rag-be\\venv\\lib\\site-packages (from httpx<1,>=0.23.0->langsmith<0.2.0,>=0.1.125->langchain-community) (4.6.2.post1)\n",
      "Requirement already satisfied: httpcore==1.* in f:\\kelaniya se\\lectures\\level 4\\semester 2\\seng 43216 (research)\\rag youtube\\rag-be\\venv\\lib\\site-packages (from httpx<1,>=0.23.0->langsmith<0.2.0,>=0.1.125->langchain-community) (1.0.6)\n",
      "Requirement already satisfied: sniffio in f:\\kelaniya se\\lectures\\level 4\\semester 2\\seng 43216 (research)\\rag youtube\\rag-be\\venv\\lib\\site-packages (from httpx<1,>=0.23.0->langsmith<0.2.0,>=0.1.125->langchain-community) (1.3.1)\n",
      "Requirement already satisfied: h11<0.15,>=0.13 in f:\\kelaniya se\\lectures\\level 4\\semester 2\\seng 43216 (research)\\rag youtube\\rag-be\\venv\\lib\\site-packages (from httpcore==1.*->httpx<1,>=0.23.0->langsmith<0.2.0,>=0.1.125->langchain-community) (0.14.0)\n",
      "Requirement already satisfied: jsonpointer>=1.9 in f:\\kelaniya se\\lectures\\level 4\\semester 2\\seng 43216 (research)\\rag youtube\\rag-be\\venv\\lib\\site-packages (from jsonpatch<2.0,>=1.33->langchain-core<0.4.0,>=0.3.15->langchain-community) (3.0.0)\n",
      "Requirement already satisfied: annotated-types>=0.6.0 in f:\\kelaniya se\\lectures\\level 4\\semester 2\\seng 43216 (research)\\rag youtube\\rag-be\\venv\\lib\\site-packages (from pydantic<3.0.0,>=2.7.4->langchain<0.4.0,>=0.3.6->langchain-community) (0.7.0)\n",
      "Requirement already satisfied: pydantic-core==2.23.4 in f:\\kelaniya se\\lectures\\level 4\\semester 2\\seng 43216 (research)\\rag youtube\\rag-be\\venv\\lib\\site-packages (from pydantic<3.0.0,>=2.7.4->langchain<0.4.0,>=0.3.6->langchain-community) (2.23.4)\n",
      "Collecting mypy-extensions>=0.3.0 (from typing-inspect<1,>=0.4.0->dataclasses-json<0.7,>=0.5.7->langchain-community)\n",
      "  Obtaining dependency information for mypy-extensions>=0.3.0 from https://files.pythonhosted.org/packages/2a/e2/5d3f6ada4297caebe1a2add3b126fe800c96f56dbe5d1988a2cbe0b267aa/mypy_extensions-1.0.0-py3-none-any.whl.metadata\n",
      "  Using cached mypy_extensions-1.0.0-py3-none-any.whl.metadata (1.1 kB)\n",
      "Requirement already satisfied: propcache>=0.2.0 in f:\\kelaniya se\\lectures\\level 4\\semester 2\\seng 43216 (research)\\rag youtube\\rag-be\\venv\\lib\\site-packages (from yarl<2.0,>=1.12.0->aiohttp<4.0.0,>=3.8.3->langchain-community) (0.2.0)\n",
      "Downloading langchain_community-0.3.5-py3-none-any.whl (2.4 MB)\n",
      "   ---------------------------------------- 0.0/2.4 MB ? eta -:--:--\n",
      "   ---------------------------------------- 0.0/2.4 MB ? eta -:--:--\n",
      "    --------------------------------------- 0.0/2.4 MB 435.7 kB/s eta 0:00:06\n",
      "    --------------------------------------- 0.0/2.4 MB 435.7 kB/s eta 0:00:06\n",
      "    --------------------------------------- 0.0/2.4 MB 435.7 kB/s eta 0:00:06\n",
      "    --------------------------------------- 0.0/2.4 MB 163.4 kB/s eta 0:00:15\n",
      "   - -------------------------------------- 0.1/2.4 MB 280.5 kB/s eta 0:00:09\n",
      "   - -------------------------------------- 0.1/2.4 MB 308.0 kB/s eta 0:00:08\n",
      "   - -------------------------------------- 0.1/2.4 MB 308.0 kB/s eta 0:00:08\n",
      "   - -------------------------------------- 0.1/2.4 MB 256.0 kB/s eta 0:00:10\n",
      "   -- ------------------------------------- 0.1/2.4 MB 315.4 kB/s eta 0:00:08\n",
      "   -- ------------------------------------- 0.2/2.4 MB 315.8 kB/s eta 0:00:08\n",
      "   -- ------------------------------------- 0.2/2.4 MB 315.8 kB/s eta 0:00:08\n",
      "   -- ------------------------------------- 0.2/2.4 MB 299.5 kB/s eta 0:00:08\n",
      "   --- ------------------------------------ 0.2/2.4 MB 344.1 kB/s eta 0:00:07\n",
      "   ---- ----------------------------------- 0.3/2.4 MB 411.4 kB/s eta 0:00:06\n",
      "   ---- ----------------------------------- 0.3/2.4 MB 411.4 kB/s eta 0:00:06\n",
      "   ----- ---------------------------------- 0.3/2.4 MB 436.9 kB/s eta 0:00:05\n",
      "   ------ --------------------------------- 0.4/2.4 MB 488.2 kB/s eta 0:00:05\n",
      "   ------- -------------------------------- 0.5/2.4 MB 547.7 kB/s eta 0:00:04\n",
      "   -------- ------------------------------- 0.5/2.4 MB 541.9 kB/s eta 0:00:04\n",
      "   -------- ------------------------------- 0.5/2.4 MB 547.4 kB/s eta 0:00:04\n",
      "   --------- ------------------------------ 0.6/2.4 MB 561.4 kB/s eta 0:00:04\n",
      "   ---------- ----------------------------- 0.6/2.4 MB 585.4 kB/s eta 0:00:04\n",
      "   ----------- ---------------------------- 0.7/2.4 MB 608.4 kB/s eta 0:00:03\n",
      "   ------------- -------------------------- 0.8/2.4 MB 682.1 kB/s eta 0:00:03\n",
      "   -------------- ------------------------- 0.9/2.4 MB 732.7 kB/s eta 0:00:03\n",
      "   ---------------- ----------------------- 1.0/2.4 MB 789.6 kB/s eta 0:00:02\n",
      "   ------------------ --------------------- 1.1/2.4 MB 854.7 kB/s eta 0:00:02\n",
      "   -------------------- ------------------- 1.2/2.4 MB 920.3 kB/s eta 0:00:02\n",
      "   --------------------- ------------------ 1.3/2.4 MB 963.8 kB/s eta 0:00:02\n",
      "   ----------------------- ---------------- 1.4/2.4 MB 1.0 MB/s eta 0:00:01\n",
      "   ------------------------- -------------- 1.5/2.4 MB 1.0 MB/s eta 0:00:01\n",
      "   --------------------------- ------------ 1.6/2.4 MB 1.1 MB/s eta 0:00:01\n",
      "   ---------------------------- ----------- 1.7/2.4 MB 1.1 MB/s eta 0:00:01\n",
      "   ------------------------------ --------- 1.8/2.4 MB 1.1 MB/s eta 0:00:01\n",
      "   -------------------------------- ------- 1.9/2.4 MB 1.2 MB/s eta 0:00:01\n",
      "   -------------------------------- ------- 2.0/2.4 MB 1.2 MB/s eta 0:00:01\n",
      "   --------------------------------- ------ 2.0/2.4 MB 1.2 MB/s eta 0:00:01\n",
      "   ----------------------------------- ---- 2.1/2.4 MB 1.2 MB/s eta 0:00:01\n",
      "   ------------------------------------- -- 2.3/2.4 MB 1.2 MB/s eta 0:00:01\n",
      "   ---------------------------------------  2.4/2.4 MB 1.3 MB/s eta 0:00:01\n",
      "   ---------------------------------------- 2.4/2.4 MB 1.3 MB/s eta 0:00:00\n",
      "Using cached dataclasses_json-0.6.7-py3-none-any.whl (28 kB)\n",
      "Downloading httpx_sse-0.4.0-py3-none-any.whl (7.8 kB)\n",
      "Downloading pydantic_settings-2.6.1-py3-none-any.whl (28 kB)\n",
      "Downloading SQLAlchemy-2.0.35-cp312-cp312-win_amd64.whl (2.1 MB)\n",
      "   ---------------------------------------- 0.0/2.1 MB ? eta -:--:--\n",
      "   ---------------------------------------- 0.0/2.1 MB ? eta -:--:--\n",
      "    --------------------------------------- 0.0/2.1 MB 495.5 kB/s eta 0:00:05\n",
      "   - -------------------------------------- 0.1/2.1 MB 563.7 kB/s eta 0:00:04\n",
      "   - -------------------------------------- 0.1/2.1 MB 655.4 kB/s eta 0:00:04\n",
      "   -- ------------------------------------- 0.1/2.1 MB 602.4 kB/s eta 0:00:04\n",
      "   -- ------------------------------------- 0.2/2.1 MB 612.6 kB/s eta 0:00:04\n",
      "   ---- ----------------------------------- 0.2/2.1 MB 724.0 kB/s eta 0:00:03\n",
      "   ----- ---------------------------------- 0.3/2.1 MB 776.2 kB/s eta 0:00:03\n",
      "   ------ --------------------------------- 0.3/2.1 MB 840.2 kB/s eta 0:00:03\n",
      "   ------- -------------------------------- 0.4/2.1 MB 890.4 kB/s eta 0:00:02\n",
      "   --------- ------------------------------ 0.5/2.1 MB 973.2 kB/s eta 0:00:02\n",
      "   ---------- ----------------------------- 0.6/2.1 MB 1.0 MB/s eta 0:00:02\n",
      "   ------------ --------------------------- 0.6/2.1 MB 1.1 MB/s eta 0:00:02\n",
      "   -------------- ------------------------- 0.7/2.1 MB 1.2 MB/s eta 0:00:02\n",
      "   ---------------- ----------------------- 0.8/2.1 MB 1.3 MB/s eta 0:00:01\n",
      "   ------------------ --------------------- 0.9/2.1 MB 1.3 MB/s eta 0:00:01\n",
      "   -------------------- ------------------- 1.0/2.1 MB 1.4 MB/s eta 0:00:01\n",
      "   --------------------- ------------------ 1.1/2.1 MB 1.4 MB/s eta 0:00:01\n",
      "   ----------------------- ---------------- 1.2/2.1 MB 1.4 MB/s eta 0:00:01\n",
      "   ----------------------- ---------------- 1.2/2.1 MB 1.4 MB/s eta 0:00:01\n",
      "   ----------------------- ---------------- 1.2/2.1 MB 1.3 MB/s eta 0:00:01\n",
      "   ------------------------- -------------- 1.4/2.1 MB 1.4 MB/s eta 0:00:01\n",
      "   --------------------------- ------------ 1.4/2.1 MB 1.4 MB/s eta 0:00:01\n",
      "   ----------------------------- ---------- 1.6/2.1 MB 1.4 MB/s eta 0:00:01\n",
      "   ------------------------------- -------- 1.6/2.1 MB 1.5 MB/s eta 0:00:01\n",
      "   --------------------------------- ------ 1.8/2.1 MB 1.5 MB/s eta 0:00:01\n",
      "   ------------------------------------ --- 1.9/2.1 MB 1.5 MB/s eta 0:00:01\n",
      "   ------------------------------------- -- 2.0/2.1 MB 1.6 MB/s eta 0:00:01\n",
      "   ---------------------------------------  2.1/2.1 MB 1.6 MB/s eta 0:00:01\n",
      "   ---------------------------------------- 2.1/2.1 MB 1.6 MB/s eta 0:00:00\n",
      "Downloading marshmallow-3.23.1-py3-none-any.whl (49 kB)\n",
      "   ---------------------------------------- 0.0/49.5 kB ? eta -:--:--\n",
      "   -------- ------------------------------- 10.2/49.5 kB ? eta -:--:--\n",
      "   ------------------------ --------------- 30.7/49.5 kB 435.7 kB/s eta 0:00:01\n",
      "   ---------------------------------------- 49.5/49.5 kB 356.8 kB/s eta 0:00:00\n",
      "Using cached typing_inspect-0.9.0-py3-none-any.whl (8.8 kB)\n",
      "Using cached mypy_extensions-1.0.0-py3-none-any.whl (4.7 kB)\n",
      "Installing collected packages: SQLAlchemy, mypy-extensions, marshmallow, httpx-sse, typing-inspect, pydantic-settings, dataclasses-json, langchain-community\n",
      "  Attempting uninstall: SQLAlchemy\n",
      "    Found existing installation: SQLAlchemy 2.0.36\n",
      "    Uninstalling SQLAlchemy-2.0.36:\n",
      "      Successfully uninstalled SQLAlchemy-2.0.36\n",
      "Successfully installed SQLAlchemy-2.0.35 dataclasses-json-0.6.7 httpx-sse-0.4.0 langchain-community-0.3.5 marshmallow-3.23.1 mypy-extensions-1.0.0 pydantic-settings-2.6.1 typing-inspect-0.9.0\n",
      "Note: you may need to restart the kernel to use updated packages.\n"
     ]
    },
    {
     "name": "stderr",
     "output_type": "stream",
     "text": [
      "\n",
      "[notice] A new release of pip is available: 23.2.1 -> 24.3.1\n",
      "[notice] To update, run: python.exe -m pip install --upgrade pip\n"
     ]
    }
   ],
   "source": [
    "pip install langchain-community"
   ]
  },
  {
   "cell_type": "code",
   "execution_count": 13,
   "metadata": {},
   "outputs": [
    {
     "name": "stdout",
     "output_type": "stream",
     "text": [
      "Note: you may need to restart the kernel to use updated packages.Requirement already satisfied: langchain-openai in f:\\kelaniya se\\lectures\\level 4\\semester 2\\seng 43216 (research)\\rag youtube\\rag-be\\venv\\lib\\site-packages (0.2.6)\n",
      "Requirement already satisfied: langchain-core<0.4.0,>=0.3.15 in f:\\kelaniya se\\lectures\\level 4\\semester 2\\seng 43216 (research)\\rag youtube\\rag-be\\venv\\lib\\site-packages (from langchain-openai) (0.3.15)\n",
      "Requirement already satisfied: openai<2.0.0,>=1.54.0 in f:\\kelaniya se\\lectures\\level 4\\semester 2\\seng 43216 (research)\\rag youtube\\rag-be\\venv\\lib\\site-packages (from langchain-openai) (1.54.3)\n",
      "Requirement already satisfied: tiktoken<1,>=0.7 in f:\\kelaniya se\\lectures\\level 4\\semester 2\\seng 43216 (research)\\rag youtube\\rag-be\\venv\\lib\\site-packages (from langchain-openai) (0.8.0)\n",
      "Requirement already satisfied: PyYAML>=5.3 in f:\\kelaniya se\\lectures\\level 4\\semester 2\\seng 43216 (research)\\rag youtube\\rag-be\\venv\\lib\\site-packages (from langchain-core<0.4.0,>=0.3.15->langchain-openai) (6.0.2)\n",
      "Requirement already satisfied: jsonpatch<2.0,>=1.33 in f:\\kelaniya se\\lectures\\level 4\\semester 2\\seng 43216 (research)\\rag youtube\\rag-be\\venv\\lib\\site-packages (from langchain-core<0.4.0,>=0.3.15->langchain-openai) (1.33)\n",
      "Requirement already satisfied: langsmith<0.2.0,>=0.1.125 in f:\\kelaniya se\\lectures\\level 4\\semester 2\\seng 43216 (research)\\rag youtube\\rag-be\\venv\\lib\\site-packages (from langchain-core<0.4.0,>=0.3.15->langchain-openai) (0.1.142)\n",
      "Requirement already satisfied: packaging<25,>=23.2 in f:\\kelaniya se\\lectures\\level 4\\semester 2\\seng 43216 (research)\\rag youtube\\rag-be\\venv\\lib\\site-packages (from langchain-core<0.4.0,>=0.3.15->langchain-openai) (24.2)\n",
      "Requirement already satisfied: pydantic<3.0.0,>=2.5.2 in f:\\kelaniya se\\lectures\\level 4\\semester 2\\seng 43216 (research)\\rag youtube\\rag-be\\venv\\lib\\site-packages (from langchain-core<0.4.0,>=0.3.15->langchain-openai) (2.9.2)\n",
      "Requirement already satisfied: tenacity!=8.4.0,<10.0.0,>=8.1.0 in f:\\kelaniya se\\lectures\\level 4\\semester 2\\seng 43216 (research)\\rag youtube\\rag-be\\venv\\lib\\site-packages (from langchain-core<0.4.0,>=0.3.15->langchain-openai) (9.0.0)\n",
      "Requirement already satisfied: typing-extensions>=4.7 in f:\\kelaniya se\\lectures\\level 4\\semester 2\\seng 43216 (research)\\rag youtube\\rag-be\\venv\\lib\\site-packages (from langchain-core<0.4.0,>=0.3.15->langchain-openai) (4.12.2)\n",
      "Requirement already satisfied: anyio<5,>=3.5.0 in f:\\kelaniya se\\lectures\\level 4\\semester 2\\seng 43216 (research)\\rag youtube\\rag-be\\venv\\lib\\site-packages (from openai<2.0.0,>=1.54.0->langchain-openai) (4.6.2.post1)\n",
      "Requirement already satisfied: distro<2,>=1.7.0 in f:\\kelaniya se\\lectures\\level 4\\semester 2\\seng 43216 (research)\\rag youtube\\rag-be\\venv\\lib\\site-packages (from openai<2.0.0,>=1.54.0->langchain-openai) (1.9.0)\n",
      "Requirement already satisfied: httpx<1,>=0.23.0 in f:\\kelaniya se\\lectures\\level 4\\semester 2\\seng 43216 (research)\\rag youtube\\rag-be\\venv\\lib\\site-packages (from openai<2.0.0,>=1.54.0->langchain-openai) (0.27.2)\n",
      "Requirement already satisfied: jiter<1,>=0.4.0 in f:\\kelaniya se\\lectures\\level 4\\semester 2\\seng 43216 (research)\\rag youtube\\rag-be\\venv\\lib\\site-packages (from openai<2.0.0,>=1.54.0->langchain-openai) (0.7.0)\n",
      "Requirement already satisfied: sniffio in f:\\kelaniya se\\lectures\\level 4\\semester 2\\seng 43216 (research)\\rag youtube\\rag-be\\venv\\lib\\site-packages (from openai<2.0.0,>=1.54.0->langchain-openai) (1.3.1)\n",
      "Requirement already satisfied: tqdm>4 in f:\\kelaniya se\\lectures\\level 4\\semester 2\\seng 43216 (research)\\rag youtube\\rag-be\\venv\\lib\\site-packages (from openai<2.0.0,>=1.54.0->langchain-openai) (4.67.0)\n",
      "Requirement already satisfied: regex>=2022.1.18 in f:\\kelaniya se\\lectures\\level 4\\semester 2\\seng 43216 (research)\\rag youtube\\rag-be\\venv\\lib\\site-packages (from tiktoken<1,>=0.7->langchain-openai) (2024.11.6)\n",
      "Requirement already satisfied: requests>=2.26.0 in f:\\kelaniya se\\lectures\\level 4\\semester 2\\seng 43216 (research)\\rag youtube\\rag-be\\venv\\lib\\site-packages (from tiktoken<1,>=0.7->langchain-openai) (2.32.3)\n",
      "Requirement already satisfied: idna>=2.8 in f:\\kelaniya se\\lectures\\level 4\\semester 2\\seng 43216 (research)\\rag youtube\\rag-be\\venv\\lib\\site-packages (from anyio<5,>=3.5.0->openai<2.0.0,>=1.54.0->langchain-openai) (3.10)\n",
      "Requirement already satisfied: certifi in f:\\kelaniya se\\lectures\\level 4\\semester 2\\seng 43216 (research)\\rag youtube\\rag-be\\venv\\lib\\site-packages (from httpx<1,>=0.23.0->openai<2.0.0,>=1.54.0->langchain-openai) (2024.8.30)\n",
      "Requirement already satisfied: httpcore==1.* in f:\\kelaniya se\\lectures\\level 4\\semester 2\\seng 43216 (research)\\rag youtube\\rag-be\\venv\\lib\\site-packages (from httpx<1,>=0.23.0->openai<2.0.0,>=1.54.0->langchain-openai) (1.0.6)\n",
      "Requirement already satisfied: h11<0.15,>=0.13 in f:\\kelaniya se\\lectures\\level 4\\semester 2\\seng 43216 (research)\\rag youtube\\rag-be\\venv\\lib\\site-packages (from httpcore==1.*->httpx<1,>=0.23.0->openai<2.0.0,>=1.54.0->langchain-openai) (0.14.0)\n",
      "Requirement already satisfied: jsonpointer>=1.9 in f:\\kelaniya se\\lectures\\level 4\\semester 2\\seng 43216 (research)\\rag youtube\\rag-be\\venv\\lib\\site-packages (from jsonpatch<2.0,>=1.33->langchain-core<0.4.0,>=0.3.15->langchain-openai) (3.0.0)\n",
      "Requirement already satisfied: orjson<4.0.0,>=3.9.14 in f:\\kelaniya se\\lectures\\level 4\\semester 2\\seng 43216 (research)\\rag youtube\\rag-be\\venv\\lib\\site-packages (from langsmith<0.2.0,>=0.1.125->langchain-core<0.4.0,>=0.3.15->langchain-openai) (3.10.11)\n",
      "Requirement already satisfied: requests-toolbelt<2.0.0,>=1.0.0 in f:\\kelaniya se\\lectures\\level 4\\semester 2\\seng 43216 (research)\\rag youtube\\rag-be\\venv\\lib\\site-packages (from langsmith<0.2.0,>=0.1.125->langchain-core<0.4.0,>=0.3.15->langchain-openai) (1.0.0)\n",
      "Requirement already satisfied: annotated-types>=0.6.0 in f:\\kelaniya se\\lectures\\level 4\\semester 2\\seng 43216 (research)\\rag youtube\\rag-be\\venv\\lib\\site-packages (from pydantic<3.0.0,>=2.5.2->langchain-core<0.4.0,>=0.3.15->langchain-openai) (0.7.0)\n",
      "Requirement already satisfied: pydantic-core==2.23.4 in f:\\kelaniya se\\lectures\\level 4\\semester 2\\seng 43216 (research)\\rag youtube\\rag-be\\venv\\lib\\site-packages (from pydantic<3.0.0,>=2.5.2->langchain-core<0.4.0,>=0.3.15->langchain-openai) (2.23.4)\n",
      "Requirement already satisfied: charset-normalizer<4,>=2 in f:\\kelaniya se\\lectures\\level 4\\semester 2\\seng 43216 (research)\\rag youtube\\rag-be\\venv\\lib\\site-packages (from requests>=2.26.0->tiktoken<1,>=0.7->langchain-openai) (3.4.0)\n",
      "Requirement already satisfied: urllib3<3,>=1.21.1 in f:\\kelaniya se\\lectures\\level 4\\semester 2\\seng 43216 (research)\\rag youtube\\rag-be\\venv\\lib\\site-packages (from requests>=2.26.0->tiktoken<1,>=0.7->langchain-openai) (2.2.3)\n",
      "Requirement already satisfied: colorama in f:\\kelaniya se\\lectures\\level 4\\semester 2\\seng 43216 (research)\\rag youtube\\rag-be\\venv\\lib\\site-packages (from tqdm>4->openai<2.0.0,>=1.54.0->langchain-openai) (0.4.6)\n",
      "\n"
     ]
    },
    {
     "name": "stderr",
     "output_type": "stream",
     "text": [
      "\n",
      "[notice] A new release of pip is available: 23.2.1 -> 24.3.1\n",
      "[notice] To update, run: python.exe -m pip install --upgrade pip\n"
     ]
    }
   ],
   "source": [
    "pip install langchain-openai"
   ]
  },
  {
   "cell_type": "code",
   "execution_count": 20,
   "metadata": {},
   "outputs": [
    {
     "name": "stdout",
     "output_type": "stream",
     "text": [
      "Collecting pypdf\n",
      "  Obtaining dependency information for pypdf from https://files.pythonhosted.org/packages/04/fc/6f52588ac1cb4400a7804ef88d0d4e00cfe57a7ac6793ec3b00de5a8758b/pypdf-5.1.0-py3-none-any.whl.metadata\n",
      "  Downloading pypdf-5.1.0-py3-none-any.whl.metadata (7.2 kB)\n",
      "Downloading pypdf-5.1.0-py3-none-any.whl (297 kB)\n",
      "   ---------------------------------------- 0.0/298.0 kB ? eta -:--:--\n",
      "   ---------------------------------------- 0.0/298.0 kB ? eta -:--:--\n",
      "   - -------------------------------------- 10.2/298.0 kB ? eta -:--:--\n",
      "   ---- ---------------------------------- 30.7/298.0 kB 330.3 kB/s eta 0:00:01\n",
      "   ---- ---------------------------------- 30.7/298.0 kB 330.3 kB/s eta 0:00:01\n",
      "   ----- --------------------------------- 41.0/298.0 kB 219.4 kB/s eta 0:00:02\n",
      "   -------- ------------------------------ 61.4/298.0 kB 252.2 kB/s eta 0:00:01\n",
      "   ---------- ---------------------------- 81.9/298.0 kB 306.3 kB/s eta 0:00:01\n",
      "   ------------ -------------------------- 92.2/298.0 kB 309.1 kB/s eta 0:00:01\n",
      "   -------------- ----------------------- 112.6/298.0 kB 312.2 kB/s eta 0:00:01\n",
      "   --------------- ---------------------- 122.9/298.0 kB 300.4 kB/s eta 0:00:01\n",
      "   ------------------ ------------------- 143.4/298.0 kB 316.2 kB/s eta 0:00:01\n",
      "   -------------------- ----------------- 163.8/298.0 kB 339.1 kB/s eta 0:00:01\n",
      "   ---------------------- --------------- 174.1/298.0 kB 327.7 kB/s eta 0:00:01\n",
      "   ------------------------ ------------- 194.6/298.0 kB 328.0 kB/s eta 0:00:01\n",
      "   -------------------------------- ----- 256.0/298.0 kB 403.5 kB/s eta 0:00:01\n",
      "   -------------------------------------  297.0/298.0 kB 448.0 kB/s eta 0:00:01\n",
      "   -------------------------------------- 298.0/298.0 kB 418.8 kB/s eta 0:00:00\n",
      "Installing collected packages: pypdf\n",
      "Successfully installed pypdf-5.1.0\n",
      "Note: you may need to restart the kernel to use updated packages.\n"
     ]
    },
    {
     "name": "stderr",
     "output_type": "stream",
     "text": [
      "\n",
      "[notice] A new release of pip is available: 23.2.1 -> 24.3.1\n",
      "[notice] To update, run: python.exe -m pip install --upgrade pip\n"
     ]
    }
   ],
   "source": [
    "pip install pypdf"
   ]
  },
  {
   "cell_type": "code",
   "execution_count": 4,
   "metadata": {},
   "outputs": [],
   "source": [
    "from dotenv import load_dotenv\n",
    "import os\n",
    "\n",
    "load_dotenv() \n",
    "api_key = os.getenv(\"OPEN_AI_KEY\")"
   ]
  },
  {
   "cell_type": "code",
   "execution_count": 21,
   "metadata": {},
   "outputs": [],
   "source": [
    "import openai, langchain, faiss, tiktoken, pypdf\n",
    "\n",
    "from langchain_community.document_loaders import DirectoryLoader, TextLoader, UnstructuredPDFLoader, OnlinePDFLoader, PyPDFLoader\n",
    "from langchain.text_splitter import RecursiveCharacterTextSplitter\n",
    "\n",
    "from langchain_openai import OpenAIEmbeddings\n",
    "from langchain.vectorstores import FAISS\n",
    "\n",
    "from langchain.llms import OpenAI\n",
    "\n",
    "from langchain.chains.question_answering import load_qa_chain\n",
    "from langchain.chains import RetrievalQA\n"
   ]
  },
  {
   "cell_type": "markdown",
   "metadata": {},
   "source": [
    "### import own pdf file"
   ]
  },
  {
   "cell_type": "code",
   "execution_count": 22,
   "metadata": {},
   "outputs": [],
   "source": [
    "loader = DirectoryLoader(\"data\" , glob=\"./*.pdf\" ,loader_cls=PyPDFLoader)\n",
    "document = loader.load() "
   ]
  },
  {
   "cell_type": "markdown",
   "metadata": {},
   "source": [
    "## split the text "
   ]
  },
  {
   "cell_type": "code",
   "execution_count": 23,
   "metadata": {},
   "outputs": [],
   "source": [
    "text_splitter = RecursiveCharacterTextSplitter(chunk_size=1000, chunk_overlap=200)\n",
    "texts = text_splitter.split_documents(document)"
   ]
  },
  {
   "cell_type": "code",
   "execution_count": 28,
   "metadata": {},
   "outputs": [
    {
     "data": {
      "text/plain": [
       "list"
      ]
     },
     "execution_count": 28,
     "metadata": {},
     "output_type": "execute_result"
    }
   ],
   "source": [
    "type(texts)"
   ]
  },
  {
   "cell_type": "code",
   "execution_count": 27,
   "metadata": {},
   "outputs": [
    {
     "data": {
      "text/plain": [
       "1045"
      ]
     },
     "execution_count": 27,
     "metadata": {},
     "output_type": "execute_result"
    }
   ],
   "source": [
    "len(texts)"
   ]
  },
  {
   "cell_type": "code",
   "execution_count": 30,
   "metadata": {},
   "outputs": [
    {
     "data": {
      "text/plain": [
       "Document(metadata={'source': 'data\\\\David Tarnoff.pdf', 'page': 32}, page_content='Chapter 1:  Digital Signals and Systems    9 \\n \\nAlternatively, multiple lines can be combined into a more abstract \\nrepresentation such as the one shown in Figure 1-10. \\n \\n \\n \\n \\n \\n \\n \\n \\n \\nFigure 1-10   Alternate Representation of Multiple Digital Signals \\nTwo horizontal lines, one at a logic 1 level and one at a logic 0 level \\nindicate constant signals from all of the lines represented. A single \\nhorizontal line running approximately between logic 1 and logic 0 \\nmeans that the signals are not sending any data. This is different from \\nan \"off\" or logic 0 in that a logic 0 indicates a number while no data \\nmeans that the device transmitting the data is not available. Hash marks \\nindicate invalid or changing data. This could mean that one or all of the \\nsignals are changing their values, or that due to the nature of the \\nelectronics, the values of the data signals cannot be predicted. In the \\nlater case, the system may need to wait to allow the signals to stabilize.')"
      ]
     },
     "execution_count": 30,
     "metadata": {},
     "output_type": "execute_result"
    }
   ],
   "source": [
    "texts[100]"
   ]
  },
  {
   "cell_type": "code",
   "execution_count": 31,
   "metadata": {},
   "outputs": [
    {
     "data": {
      "text/plain": [
       "{'source': 'data\\\\David Tarnoff.pdf', 'page': 32}"
      ]
     },
     "execution_count": 31,
     "metadata": {},
     "output_type": "execute_result"
    }
   ],
   "source": [
    "texts[100].metadata"
   ]
  },
  {
   "cell_type": "code",
   "execution_count": 32,
   "metadata": {},
   "outputs": [
    {
     "data": {
      "text/plain": [
       "'data\\\\David Tarnoff.pdf'"
      ]
     },
     "execution_count": 32,
     "metadata": {},
     "output_type": "execute_result"
    }
   ],
   "source": [
    "texts[100].metadata['source']"
   ]
  },
  {
   "cell_type": "markdown",
   "metadata": {},
   "source": [
    "### OpenAi Embedding and VectorDB"
   ]
  },
  {
   "cell_type": "code",
   "execution_count": 33,
   "metadata": {},
   "outputs": [],
   "source": [
    "embeddings = OpenAIEmbeddings(api_key=api_key)"
   ]
  },
  {
   "cell_type": "code",
   "execution_count": 34,
   "metadata": {},
   "outputs": [],
   "source": [
    "# create vector from text\n",
    "\n",
    "docsearch = FAISS.from_documents(texts, embeddings)"
   ]
  },
  {
   "cell_type": "code",
   "execution_count": 35,
   "metadata": {},
   "outputs": [],
   "source": [
    "query1 = \"what are edges and pulses\""
   ]
  },
  {
   "cell_type": "code",
   "execution_count": 36,
   "metadata": {},
   "outputs": [],
   "source": [
    "answer = docsearch.similarity_search(query1)"
   ]
  },
  {
   "cell_type": "code",
   "execution_count": 41,
   "metadata": {},
   "outputs": [
    {
     "name": "stdout",
     "output_type": "stream",
     "text": [
      "10   Computer Organization and Design Fundamentals \n",
      " \n",
      "computer (momentarily pressed, then released) or the button used to \n",
      "initialize synchronization between a PDA and a computer. \n",
      " \n",
      " \n",
      "Figure 1-11   Digital Transition Definitions \n",
      "There are two types of pulses. The first is called a positive-going \n",
      "pulse, and it has an idle state of logic 0 with a short pulse to logic 1. \n",
      "The other one, a negative-going pulse, has an idle state of logic 1 with \n",
      "a short pulse to logic 0. Both of these signals are shown in Figure 1-12. \n",
      " \n",
      " \n",
      " \n",
      "Figure 1-12   Pulse Waveforms \n",
      "1.6.3 Non-Periodic Pulse Trains \n",
      "Some digital signals such as the data wires of an Ethernet link or the \n",
      "data and address lines of a memory interface do not have a \n",
      "characteristic pattern in their changes between logic 1 and logic 0. \n",
      "These are called non-periodic pulse trains. \n",
      " \n",
      " \n",
      " \n",
      "Figure 1-13   Non-Periodic Pulse Train \n",
      "Like music, the duration of the notes or the spaces between the notes\n"
     ]
    }
   ],
   "source": [
    "print(answer[3].page_content)"
   ]
  },
  {
   "cell_type": "code",
   "execution_count": null,
   "metadata": {},
   "outputs": [],
   "source": [
    "answer_score = docsearch.similarity_search_with_score(query1) # closer to 0 is better"
   ]
  },
  {
   "cell_type": "code",
   "execution_count": 43,
   "metadata": {},
   "outputs": [
    {
     "data": {
      "text/plain": [
       "(Document(metadata={'source': 'data\\\\David Tarnoff.pdf', 'page': 4}, page_content=\"1.6.1 Edges ................................................................................. 9 \\n  1.6.2 Pulses................................................................................. 9 \\n  1.6.3 Non-Periodic Pulse Trains .............................................. 10 \\n  1.6.4 Periodic Pulse Trains....................................................... 11 \\n  1.6.5 Pulse-Width Modulation ................................................. 13 \\n 1.7 Unit Prefixes ............................................................................ 15 \\n 1.8 What's Next? ............................................................................ 16 \\n Problems......................................................................................... 16 \\n \\nChapter Two: Numbering Systems .................................................. 17 \\n 2.1 Unsigned Binary Counting....................................................... 17\"),\n",
       " 0.46903026)"
      ]
     },
     "execution_count": 43,
     "metadata": {},
     "output_type": "execute_result"
    }
   ],
   "source": [
    "answer_score[0]"
   ]
  },
  {
   "cell_type": "markdown",
   "metadata": {},
   "source": [
    "### import chat"
   ]
  },
  {
   "cell_type": "code",
   "execution_count": 45,
   "metadata": {},
   "outputs": [],
   "source": [
    "from langchain.chains.question_answering import load_qa_chain\n",
    "from langchain.chains import RetrievalQA"
   ]
  },
  {
   "cell_type": "code",
   "execution_count": 51,
   "metadata": {},
   "outputs": [],
   "source": [
    "## setup the llm model\n",
    "\n",
    "llm = OpenAI(temperature=0, api_key=api_key)"
   ]
  },
  {
   "cell_type": "markdown",
   "metadata": {},
   "source": [
    "### get answers from your own docs "
   ]
  },
  {
   "cell_type": "code",
   "execution_count": 76,
   "metadata": {},
   "outputs": [],
   "source": [
    "# helper function to process the response from the QA chain\n",
    "# and isloate result and source docs and page number\n",
    "\n",
    "def parse_response(response):\n",
    "    print(response['result'])\n",
    "    print('\\n\\nSource:')\n",
    "    for source_name in response['source_documents']:\n",
    "        print(source_name.metadata['source'], \"page #:\", source_name.metadata['page'])"
   ]
  },
  {
   "cell_type": "code",
   "execution_count": 57,
   "metadata": {},
   "outputs": [],
   "source": [
    "# setup the retriever on the faiss vector store\n",
    "# make sure to set include_metadata = True\n",
    "\n",
    "retriever = docsearch.as_retriever(include_metadata=True, metadata_key='source')"
   ]
  },
  {
   "cell_type": "code",
   "execution_count": 69,
   "metadata": {},
   "outputs": [],
   "source": [
    "# setup the RetrieverQA chain with the retriever \n",
    "# make sure to return_source_documents = True\n",
    "\n",
    "qa_chain = RetrievalQA.from_chain_type(llm=llm,\n",
    "                                       chain_type=\"stuff\",\n",
    "                                       retriever=retriever,\n",
    "                                       return_source_documents=True)"
   ]
  },
  {
   "cell_type": "code",
   "execution_count": 70,
   "metadata": {},
   "outputs": [],
   "source": [
    "query = \"what are edges and pulses\""
   ]
  },
  {
   "cell_type": "code",
   "execution_count": 71,
   "metadata": {},
   "outputs": [],
   "source": [
    "response = qa_chain(query)"
   ]
  },
  {
   "cell_type": "code",
   "execution_count": 72,
   "metadata": {},
   "outputs": [
    {
     "data": {
      "text/plain": [
       "dict"
      ]
     },
     "execution_count": 72,
     "metadata": {},
     "output_type": "execute_result"
    }
   ],
   "source": [
    "type(response)"
   ]
  },
  {
   "cell_type": "code",
   "execution_count": 73,
   "metadata": {},
   "outputs": [
    {
     "data": {
      "text/plain": [
       "{'query': 'what are edges and pulses',\n",
       " 'result': ' Edges and pulses are types of digital signals that occur in binary systems. Edges refer to the transition from one logic value to another, while pulses occur when a signal changes from one value to the other for a short period before returning to its original value. There are two types of pulses: positive-going and negative-going. Non-periodic pulse trains are digital signals that do not have a characteristic pattern in their changes between logic 1 and logic 0.',\n",
       " 'source_documents': [Document(metadata={'source': 'data\\\\David Tarnoff.pdf', 'page': 4}, page_content=\"1.6.1 Edges ................................................................................. 9 \\n  1.6.2 Pulses................................................................................. 9 \\n  1.6.3 Non-Periodic Pulse Trains .............................................. 10 \\n  1.6.4 Periodic Pulse Trains....................................................... 11 \\n  1.6.5 Pulse-Width Modulation ................................................. 13 \\n 1.7 Unit Prefixes ............................................................................ 15 \\n 1.8 What's Next? ............................................................................ 16 \\n Problems......................................................................................... 16 \\n \\nChapter Two: Numbering Systems .................................................. 17 \\n 2.1 Unsigned Binary Counting....................................................... 17\"),\n",
       "  Document(metadata={'source': 'data\\\\David Tarnoff.pdf', 'page': 33}, page_content='These are called non-periodic pulse trains. \\n \\n \\n \\nFigure 1-13   Non-Periodic Pulse Train \\nLike music, the duration of the notes or the spaces between the notes \\ncan be longer or shorter. On the page, they do not look meaningful, but \\nonce the reader is given the tools to interpret the signal, the data they \\ncontain becomes clear. \\nLogic 1\\nLogic 0\\nLogic 1\\nLogic 0\\na.) Rising Edge b.) Falling Edge \\na.) Positive-going \\nLogic 1\\nLogic 0\\nb.) Negative-going \\nLogic 1\\nLogic 0'),\n",
       "  Document(metadata={'source': 'data\\\\David Tarnoff.pdf', 'page': 32}, page_content='electronics, the values of the data signals cannot be predicted. In the \\nlater case, the system may need to wait to allow the signals to stabilize. \\n1.6 Types of Digital Signals \\n1.6.1 Edges \\nA single binary signal can have one of two possible transitions as \\nshown in Figure 1-11. The first one, a transition from a logic 0 to a \\nlogic 1, is called a rising edge transition. The second one, a transition \\nfrom a logic 1 to a logic 0 is called a falling edge transition. \\n1.6.2 Pulses  \\nA binary pulse occurs when a signal changes from one value to the \\nother for a short period, then returns to its original value. Examples of \\nthis type of signal might be the power-on or reset buttons on a \\nValid data Valid data Valid data \\nInvalid or \\nundefined data \\nData is in \\ntransition \\nNo data \\nis available \\nDuring these periods, the data \\nsignals do not change'),\n",
       "  Document(metadata={'source': 'data\\\\David Tarnoff.pdf', 'page': 33}, page_content='10   Computer Organization and Design Fundamentals \\n \\ncomputer (momentarily pressed, then released) or the button used to \\ninitialize synchronization between a PDA and a computer. \\n \\n \\nFigure 1-11   Digital Transition Definitions \\nThere are two types of pulses. The first is called a positive-going \\npulse, and it has an idle state of logic 0 with a short pulse to logic 1. \\nThe other one, a negative-going pulse, has an idle state of logic 1 with \\na short pulse to logic 0. Both of these signals are shown in Figure 1-12. \\n \\n \\n \\nFigure 1-12   Pulse Waveforms \\n1.6.3 Non-Periodic Pulse Trains \\nSome digital signals such as the data wires of an Ethernet link or the \\ndata and address lines of a memory interface do not have a \\ncharacteristic pattern in their changes between logic 1 and logic 0. \\nThese are called non-periodic pulse trains. \\n \\n \\n \\nFigure 1-13   Non-Periodic Pulse Train \\nLike music, the duration of the notes or the spaces between the notes')]}"
      ]
     },
     "execution_count": 73,
     "metadata": {},
     "output_type": "execute_result"
    }
   ],
   "source": [
    "response"
   ]
  },
  {
   "cell_type": "code",
   "execution_count": 78,
   "metadata": {},
   "outputs": [
    {
     "name": "stdout",
     "output_type": "stream",
     "text": [
      " Edges and pulses are types of digital signals that occur in binary systems. Edges refer to the transition from one logic value to another, while pulses occur when a signal changes from one value to the other for a short period before returning to its original value. There are two types of pulses: positive-going and negative-going. Non-periodic pulse trains are digital signals that do not have a characteristic pattern in their changes between logic 1 and logic 0.\n",
      "\n",
      "\n",
      "Source:\n",
      "data\\David Tarnoff.pdf page #: 4\n",
      "data\\David Tarnoff.pdf page #: 33\n",
      "data\\David Tarnoff.pdf page #: 32\n",
      "data\\David Tarnoff.pdf page #: 33\n"
     ]
    }
   ],
   "source": [
    "parse_response(response)"
   ]
  },
  {
   "cell_type": "code",
   "execution_count": 75,
   "metadata": {},
   "outputs": [
    {
     "data": {
      "text/plain": [
       "[Document(metadata={'source': 'data\\\\David Tarnoff.pdf', 'page': 4}, page_content=\"1.6.1 Edges ................................................................................. 9 \\n  1.6.2 Pulses................................................................................. 9 \\n  1.6.3 Non-Periodic Pulse Trains .............................................. 10 \\n  1.6.4 Periodic Pulse Trains....................................................... 11 \\n  1.6.5 Pulse-Width Modulation ................................................. 13 \\n 1.7 Unit Prefixes ............................................................................ 15 \\n 1.8 What's Next? ............................................................................ 16 \\n Problems......................................................................................... 16 \\n \\nChapter Two: Numbering Systems .................................................. 17 \\n 2.1 Unsigned Binary Counting....................................................... 17\"),\n",
       " Document(metadata={'source': 'data\\\\David Tarnoff.pdf', 'page': 33}, page_content='These are called non-periodic pulse trains. \\n \\n \\n \\nFigure 1-13   Non-Periodic Pulse Train \\nLike music, the duration of the notes or the spaces between the notes \\ncan be longer or shorter. On the page, they do not look meaningful, but \\nonce the reader is given the tools to interpret the signal, the data they \\ncontain becomes clear. \\nLogic 1\\nLogic 0\\nLogic 1\\nLogic 0\\na.) Rising Edge b.) Falling Edge \\na.) Positive-going \\nLogic 1\\nLogic 0\\nb.) Negative-going \\nLogic 1\\nLogic 0'),\n",
       " Document(metadata={'source': 'data\\\\David Tarnoff.pdf', 'page': 32}, page_content='electronics, the values of the data signals cannot be predicted. In the \\nlater case, the system may need to wait to allow the signals to stabilize. \\n1.6 Types of Digital Signals \\n1.6.1 Edges \\nA single binary signal can have one of two possible transitions as \\nshown in Figure 1-11. The first one, a transition from a logic 0 to a \\nlogic 1, is called a rising edge transition. The second one, a transition \\nfrom a logic 1 to a logic 0 is called a falling edge transition. \\n1.6.2 Pulses  \\nA binary pulse occurs when a signal changes from one value to the \\nother for a short period, then returns to its original value. Examples of \\nthis type of signal might be the power-on or reset buttons on a \\nValid data Valid data Valid data \\nInvalid or \\nundefined data \\nData is in \\ntransition \\nNo data \\nis available \\nDuring these periods, the data \\nsignals do not change'),\n",
       " Document(metadata={'source': 'data\\\\David Tarnoff.pdf', 'page': 33}, page_content='10   Computer Organization and Design Fundamentals \\n \\ncomputer (momentarily pressed, then released) or the button used to \\ninitialize synchronization between a PDA and a computer. \\n \\n \\nFigure 1-11   Digital Transition Definitions \\nThere are two types of pulses. The first is called a positive-going \\npulse, and it has an idle state of logic 0 with a short pulse to logic 1. \\nThe other one, a negative-going pulse, has an idle state of logic 1 with \\na short pulse to logic 0. Both of these signals are shown in Figure 1-12. \\n \\n \\n \\nFigure 1-12   Pulse Waveforms \\n1.6.3 Non-Periodic Pulse Trains \\nSome digital signals such as the data wires of an Ethernet link or the \\ndata and address lines of a memory interface do not have a \\ncharacteristic pattern in their changes between logic 1 and logic 0. \\nThese are called non-periodic pulse trains. \\n \\n \\n \\nFigure 1-13   Non-Periodic Pulse Train \\nLike music, the duration of the notes or the spaces between the notes')]"
      ]
     },
     "execution_count": 75,
     "metadata": {},
     "output_type": "execute_result"
    }
   ],
   "source": [
    "response['source_documents']"
   ]
  },
  {
   "cell_type": "markdown",
   "metadata": {},
   "source": [
    "### use Vector agent"
   ]
  },
  {
   "cell_type": "code",
   "execution_count": 91,
   "metadata": {},
   "outputs": [],
   "source": [
    "# import the dependencies\n",
    "\n",
    "from langchain.agents.agent_toolkits import (\n",
    "    create_vectorstore_agent,\n",
    "    VectorStoreToolkit,\n",
    "    VectorStoreInfo\n",
    ")"
   ]
  },
  {
   "cell_type": "code",
   "execution_count": 80,
   "metadata": {},
   "outputs": [],
   "source": [
    "# set up the vectorstore info\n",
    "\n",
    "vectorstore_info = VectorStoreInfo(\n",
    "    name=\"pdf_vectorstore\",\n",
    "    description=\"pdf vectorstore\",\n",
    "    vectorstore=docsearch,\n",
    ")"
   ]
  },
  {
   "cell_type": "code",
   "execution_count": 102,
   "metadata": {},
   "outputs": [],
   "source": [
    "# Setup the VectorStoreToolkit and VectorStoreAgent\n",
    "\n",
    "toolkit = VectorStoreToolkit(llm=llm, vectorstore_info=vectorstore_info)\n",
    "agent_executor = create_vectorstore_agent(llm=llm,\n",
    "                                          toolkit=toolkit,\n",
    "                                          verbose=False)"
   ]
  },
  {
   "cell_type": "code",
   "execution_count": 104,
   "metadata": {},
   "outputs": [
    {
     "name": "stdout",
     "output_type": "stream",
     "text": [
      "what are edges and pulsesList the sourcesList the sources List the sources List the sources List the sources. List the sources. List the sources. List the sources. List the sources. List the sources.\n"
     ]
    }
   ],
   "source": [
    "# Add the string to ask for source\n",
    "\n",
    "query = query + \" List the sources.\"\n",
    "print(query)"
   ]
  },
  {
   "cell_type": "code",
   "execution_count": 113,
   "metadata": {},
   "outputs": [],
   "source": [
    "# run the agent\n",
    "\n",
    "response = agent_executor.run(query)"
   ]
  },
  {
   "cell_type": "code",
   "execution_count": null,
   "metadata": {},
   "outputs": [
    {
     "data": {
      "text/plain": [
       "str"
      ]
     },
     "execution_count": 110,
     "metadata": {},
     "output_type": "execute_result"
    }
   ],
   "source": [
    "type(response)"
   ]
  },
  {
   "cell_type": "code",
   "execution_count": null,
   "metadata": {},
   "outputs": [
    {
     "data": {
      "text/plain": [
       "'Edges are transitions from one binary value to another, while pulses are short periods of a signal changing from one value to another. Non-periodic pulse trains are digital signals without a characteristic pattern in their changes between logic 1 and logic 0.'"
      ]
     },
     "execution_count": 111,
     "metadata": {},
     "output_type": "execute_result"
    }
   ],
   "source": [
    "response"
   ]
  }
 ],
 "metadata": {
  "kernelspec": {
   "display_name": "venv",
   "language": "python",
   "name": "python3"
  },
  "language_info": {
   "codemirror_mode": {
    "name": "ipython",
    "version": 3
   },
   "file_extension": ".py",
   "mimetype": "text/x-python",
   "name": "python",
   "nbconvert_exporter": "python",
   "pygments_lexer": "ipython3",
   "version": "3.12.1"
  }
 },
 "nbformat": 4,
 "nbformat_minor": 2
}
